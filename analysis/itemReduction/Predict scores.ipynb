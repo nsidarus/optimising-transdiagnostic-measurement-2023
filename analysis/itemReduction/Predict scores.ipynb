{
 "cells": [
  {
   "cell_type": "markdown",
   "metadata": {},
   "source": [
    "# Predict factor scores\n",
    "\n",
    "Here we identify a subset of items that can be used to predict the true factor scores.\n",
    "\n",
    "To do this we use the [FACSIMILE](https://github.com/tobywise/FACSIMILE) package."
   ]
  },
  {
   "cell_type": "markdown",
   "metadata": {},
   "source": [
    "First, import the necessary packages:"
   ]
  },
  {
   "cell_type": "code",
   "execution_count": 8,
   "metadata": {},
   "outputs": [
    {
     "name": "stdout",
     "output_type": "stream",
     "text": [
      "Font Heebo already available in Matplotlib.\n",
      "Matplotlib style set to: ../../style.mplstyle with font Heebo\n"
     ]
    }
   ],
   "source": [
    "from facsimile.plotting import plot_predictions\n",
    "from facsimile.eval import FACSIMILEOptimiser\n",
    "from facsimile.utils import train_validation_test_split\n",
    "import pandas as pd\n",
    "import colormaps as cmaps\n",
    "import sys\n",
    "import os\n",
    "sys.path.append('../../code')\n",
    "from style import set_style\n",
    "set_style('../../style.mplstyle')\n",
    "import matplotlib.pyplot as plt"
   ]
  },
  {
   "cell_type": "markdown",
   "metadata": {},
   "source": [
    "## Data\n",
    "\n",
    "Next, we load the data. The `OCI_16` item is dropped as it is deemed too culturally-specific."
   ]
  },
  {
   "cell_type": "code",
   "execution_count": 9,
   "metadata": {},
   "outputs": [],
   "source": [
    "items = pd.read_csv(\"../../data/items.csv\")\n",
    "factor_scores = pd.read_csv(\"../../data/factor_scores.csv\")\n",
    "\n",
    "# Drop OCI_16 column\n",
    "items = items.drop(columns='OCI_16')"
   ]
  },
  {
   "cell_type": "markdown",
   "metadata": {},
   "source": [
    "It is important to split the data into three sets: training, validation, and test. The training set is used to fit the model, the validation set is used to select the best hyperparameter values, and the test set is used to evaluate the optimised model's performance. We can do this using the provided `train_validate_test_split` utility function."
   ]
  },
  {
   "cell_type": "code",
   "execution_count": 10,
   "metadata": {},
   "outputs": [],
   "source": [
    "X_train, X_val, X_test, y_train, y_val, y_test = train_validation_test_split(\n",
    "    items.iloc[:, 2:],  # Drop the first two columns, which are just IDs\n",
    "    factor_scores.iloc[:, 2:],  # Drop the first two columns, which are just IDs\n",
    "    train_size=0.6,\n",
    "    test_size=0.2,\n",
    "    val_size=0.2,\n",
    ")"
   ]
  },
  {
   "cell_type": "markdown",
   "metadata": {},
   "source": [
    "## Run the optimiser\n",
    "\n",
    "The `FACSIMILEOptimiser` class runs a random search across the hyperparameter space to find regalularisation hyperparameter values that provide the best performance on the validation set. \n"
   ]
  },
  {
   "cell_type": "code",
   "execution_count": 11,
   "metadata": {},
   "outputs": [
    {
     "name": "stderr",
     "output_type": "stream",
     "text": [
      "Evaluation:   0%|          | 0/5000 [00:00<?, ?it/s]"
     ]
    },
    {
     "name": "stderr",
     "output_type": "stream",
     "text": [
      "Evaluation: 100%|██████████| 5000/5000 [02:48<00:00, 29.59it/s]\n"
     ]
    }
   ],
   "source": [
    "# Initialise the optimiser\n",
    "optimiser = FACSIMILEOptimiser(n_iter=5000, n_jobs=10)\n",
    "\n",
    "# Fit\n",
    "optimiser.fit(X_train, y_train, X_val, y_val, factor_names=[\"AD\", \"Compul\", \"SW\"])"
   ]
  },
  {
   "cell_type": "markdown",
   "metadata": {},
   "source": [
    "### View the results\n",
    "\n",
    "The optimiser stores the results of each iteration in a pandas DataFrame. We can view the results using the `results_` attribute.\n",
    "\n",
    "This contains columns representing the $R^2$ score for each factor on the validation set, the minimum $R^2$ score across all factors, and the hyperparameter values used for each iteration. We also get the number of items retained on each iteration, along with a `score` variable that balances the number of items retained with the minimum $R^2$ score according to the following formula:\n",
    "\n",
    "\n",
    "$$\\text{score} = \\min(R^2) \\cdot \\left(1 - \\frac{n_{included}}{n_{total}}\\right)$$\n",
    "\n",
    "Where $n_{included}$ is the number of items included, and $n_{total}$ is the total number of items.\n"
   ]
  },
  {
   "cell_type": "code",
   "execution_count": 12,
   "metadata": {},
   "outputs": [
    {
     "data": {
      "text/html": [
       "<div>\n",
       "<style scoped>\n",
       "    .dataframe tbody tr th:only-of-type {\n",
       "        vertical-align: middle;\n",
       "    }\n",
       "\n",
       "    .dataframe tbody tr th {\n",
       "        vertical-align: top;\n",
       "    }\n",
       "\n",
       "    .dataframe thead th {\n",
       "        text-align: right;\n",
       "    }\n",
       "</style>\n",
       "<table border=\"1\" class=\"dataframe\">\n",
       "  <thead>\n",
       "    <tr style=\"text-align: right;\">\n",
       "      <th></th>\n",
       "      <th>run</th>\n",
       "      <th>r2_AD</th>\n",
       "      <th>r2_Compul</th>\n",
       "      <th>r2_SW</th>\n",
       "      <th>min_r2</th>\n",
       "      <th>scores</th>\n",
       "      <th>n_items</th>\n",
       "      <th>alpha_AD</th>\n",
       "      <th>alpha_Compul</th>\n",
       "      <th>alpha_SW</th>\n",
       "    </tr>\n",
       "  </thead>\n",
       "  <tbody>\n",
       "    <tr>\n",
       "      <th>0</th>\n",
       "      <td>0</td>\n",
       "      <td>0.918298</td>\n",
       "      <td>0.941469</td>\n",
       "      <td>0.990727</td>\n",
       "      <td>0.918298</td>\n",
       "      <td>0.648990</td>\n",
       "      <td>61</td>\n",
       "      <td>0.648454</td>\n",
       "      <td>0.088522</td>\n",
       "      <td>0.050141</td>\n",
       "    </tr>\n",
       "    <tr>\n",
       "      <th>1</th>\n",
       "      <td>1</td>\n",
       "      <td>0.943385</td>\n",
       "      <td>0.797884</td>\n",
       "      <td>0.982315</td>\n",
       "      <td>0.797884</td>\n",
       "      <td>0.644444</td>\n",
       "      <td>40</td>\n",
       "      <td>0.281767</td>\n",
       "      <td>0.451665</td>\n",
       "      <td>0.067217</td>\n",
       "    </tr>\n",
       "    <tr>\n",
       "      <th>2</th>\n",
       "      <td>2</td>\n",
       "      <td>0.921996</td>\n",
       "      <td>0.754960</td>\n",
       "      <td>0.970634</td>\n",
       "      <td>0.754960</td>\n",
       "      <td>0.631553</td>\n",
       "      <td>34</td>\n",
       "      <td>0.422915</td>\n",
       "      <td>0.377139</td>\n",
       "      <td>0.120488</td>\n",
       "    </tr>\n",
       "    <tr>\n",
       "      <th>3</th>\n",
       "      <td>3</td>\n",
       "      <td>0.960795</td>\n",
       "      <td>0.943496</td>\n",
       "      <td>0.984583</td>\n",
       "      <td>0.943496</td>\n",
       "      <td>0.653189</td>\n",
       "      <td>64</td>\n",
       "      <td>0.263594</td>\n",
       "      <td>0.084933</td>\n",
       "      <td>0.173436</td>\n",
       "    </tr>\n",
       "    <tr>\n",
       "      <th>4</th>\n",
       "      <td>4</td>\n",
       "      <td>0.943833</td>\n",
       "      <td>0.838659</td>\n",
       "      <td>0.972880</td>\n",
       "      <td>0.838659</td>\n",
       "      <td>0.669315</td>\n",
       "      <td>42</td>\n",
       "      <td>0.267312</td>\n",
       "      <td>0.321228</td>\n",
       "      <td>0.095243</td>\n",
       "    </tr>\n",
       "  </tbody>\n",
       "</table>\n",
       "</div>"
      ],
      "text/plain": [
       "   run     r2_AD  r2_Compul     r2_SW    min_r2    scores  n_items  alpha_AD  \\\n",
       "0    0  0.918298   0.941469  0.990727  0.918298  0.648990       61  0.648454   \n",
       "1    1  0.943385   0.797884  0.982315  0.797884  0.644444       40  0.281767   \n",
       "2    2  0.921996   0.754960  0.970634  0.754960  0.631553       34  0.422915   \n",
       "3    3  0.960795   0.943496  0.984583  0.943496  0.653189       64  0.263594   \n",
       "4    4  0.943833   0.838659  0.972880  0.838659  0.669315       42  0.267312   \n",
       "\n",
       "   alpha_Compul  alpha_SW  \n",
       "0      0.088522  0.050141  \n",
       "1      0.451665  0.067217  \n",
       "2      0.377139  0.120488  \n",
       "3      0.084933  0.173436  \n",
       "4      0.321228  0.095243  "
      ]
     },
     "execution_count": 12,
     "metadata": {},
     "output_type": "execute_result"
    }
   ],
   "source": [
    "optimiser.results_.head()"
   ]
  },
  {
   "cell_type": "markdown",
   "metadata": {},
   "source": [
    "### Plot the results\n",
    "\n",
    "We can also plot the results using the `plot_results` method. This plots the $R^2$ score for each factor on the validation set, along with the minimum $R^2$ score across all factors, and the number of items included on each iteration."
   ]
  },
  {
   "cell_type": "code",
   "execution_count": 13,
   "metadata": {},
   "outputs": [
    {
     "data": {
      "image/png": "[encoded data removed]",
      "text/plain": [
       "<Figure size 450x300 with 1 Axes>"
      ]
     },
     "metadata": {},
     "output_type": "display_data"
    },
    {
     "data": {
      "text/plain": [
       "<Figure size 512x384 with 0 Axes>"
      ]
     },
     "metadata": {},
     "output_type": "display_data"
    }
   ],
   "source": [
    "optimiser.plot_results(cmap=cmaps.bold[2:5], figsize=(4.5, 3), scatter_kws={\"s\": 10, 'alpha': 0.05}, figure_kws={\"dpi\": 100})\n",
    "\n",
    "# Save the figure\n",
    "plt.savefig(\"../../figures/facsimile_optimisation.svg\", bbox_inches='tight', dpi=300)"
   ]
  },
  {
   "cell_type": "markdown",
   "metadata": {},
   "source": [
    "### Get the best classifier\n",
    "\n",
    "We can get the best classifier from the optimiser using the `get_best_classifier` method. This returns a `FACSIMILEClassifier` object which can be used to predict factor scores for new participants.\n",
    "\n",
    "The classifier is returned unfitted (i.e., just initialised with the best alpha values), so we then need to call the `fit` method to fit the classifier to the training data."
   ]
  },
  {
   "cell_type": "code",
   "execution_count": 14,
   "metadata": {},
   "outputs": [
    {
     "name": "stdout",
     "output_type": "stream",
     "text": [
      "Number of included items: 29\n"
     ]
    }
   ],
   "source": [
    "# Get the best classifier\n",
    "best_clf = optimiser.get_best_classifier()\n",
    "\n",
    "# Fit\n",
    "best_clf.fit(X_train, y_train)\n",
    "\n",
    "# Print number of included items\n",
    "print(\"Number of included items: {}\".format(best_clf.included_items.sum()))\n",
    "\n",
    "# Save the weights\n",
    "if not os.path.exists(\"../../models\"):\n",
    "    os.makedirs(\"../../models\")\n",
    "best_clf.get_weights().to_csv(\"../../models/weights_best.csv\", index=False)\n",
    "\n",
    "# Save the model\n",
    "best_clf.save(\"../../models/best_model.pkl\")"
   ]
  },
  {
   "cell_type": "markdown",
   "metadata": {},
   "source": [
    "We can then predict factor scores for the test data using the `predict` method and plot the predicted scores against the true scores."
   ]
  },
  {
   "cell_type": "code",
   "execution_count": 27,
   "metadata": {},
   "outputs": [
    {
     "data": {
      "image/png": "[encoded data removed]",
      "text/plain": [
       "<Figure size 600x250 with 3 Axes>"
      ]
     },
     "metadata": {},
     "output_type": "display_data"
    }
   ],
   "source": [
    "# Get predictions\n",
    "y_pred = best_clf.predict(X_test)\n",
    "\n",
    "# Plot\n",
    "plot_predictions(\n",
    "    y_test,\n",
    "    y_pred,\n",
    "    [\"AD\", \"Compul\", \"SW\"],\n",
    "    palette=cmaps.bold[2:5]._colors,\n",
    "    figure_kws={\"figsize\": (6, 2.5), \"dpi\": 100},\n",
    ")"
   ]
  },
  {
   "cell_type": "code",
   "execution_count": 30,
   "metadata": {},
   "outputs": [],
   "source": [
    "# get r2s\n",
    "from sklearn.metrics import r2_score\n",
    "r2s = r2_score(y_test, y_pred, multioutput='raw_values')"
   ]
  },
  {
   "cell_type": "code",
   "execution_count": 31,
   "metadata": {},
   "outputs": [
    {
     "data": {
      "text/plain": [
       "array([0.91398187, 0.8939812 , 0.9411595 ])"
      ]
     },
     "execution_count": 31,
     "metadata": {},
     "output_type": "execute_result"
    }
   ],
   "source": [
    "r2s"
   ]
  },
  {
   "cell_type": "markdown",
   "metadata": {},
   "source": [
    "### Get the best classifier with <= 70 items\n",
    "\n",
    "In our previous work we've aimed for around 70 items. We can use this criterion here, selecting the classifier with the best score that includes less than 70 items. "
   ]
  },
  {
   "cell_type": "code",
   "execution_count": 16,
   "metadata": {},
   "outputs": [
    {
     "name": "stdout",
     "output_type": "stream",
     "text": [
      "Number of included items: 70\n"
     ]
    }
   ],
   "source": [
    "# Get the best classifier\n",
    "best_clf_70 = optimiser.get_best_classifier_max_items(70)\n",
    "\n",
    "# Fit\n",
    "best_clf_70.fit(X_train, y_train)\n",
    "\n",
    "# Print number of included items\n",
    "print(\"Number of included items: {}\".format(best_clf_70.included_items.sum()))\n",
    "\n",
    "# Save the weights\n",
    "best_clf.get_weights().to_csv(\"../../models/weights_70item.csv\", index=False)\n",
    "\n",
    "# Save the model\n",
    "best_clf.save(\"../../models/70item_model.pkl\")"
   ]
  },
  {
   "cell_type": "markdown",
   "metadata": {},
   "source": [
    "Again, we can plot the predicted scores against the true scores."
   ]
  },
  {
   "cell_type": "code",
   "execution_count": 17,
   "metadata": {},
   "outputs": [
    {
     "data": {
      "image/png": "[encoded data removed]",
      "text/plain": [
       "<Figure size 600x250 with 3 Axes>"
      ]
     },
     "metadata": {},
     "output_type": "display_data"
    },
    {
     "data": {
      "text/plain": [
       "<Figure size 512x384 with 0 Axes>"
      ]
     },
     "metadata": {},
     "output_type": "display_data"
    }
   ],
   "source": [
    "# Get predictions\n",
    "y_pred_70 = best_clf_70.predict(X_test)\n",
    "\n",
    "# Plot\n",
    "plot_predictions(\n",
    "    y_test,\n",
    "    y_pred_70,\n",
    "    [\"AD\", \"Compul\", \"SW\"],\n",
    "    palette=cmaps.bold[2:5]._colors,\n",
    "    figure_kws={\"figsize\": (6, 2.5), \"dpi\": 100},\n",
    ")\n",
    "\n",
    "# Save the figure\n",
    "plt.savefig(\"../../figures/facsimile_accuracy.svg\", bbox_inches='tight', dpi=300)"
   ]
  },
  {
   "cell_type": "markdown",
   "metadata": {},
   "source": [
    "## Predict for all subjects"
   ]
  },
  {
   "cell_type": "code",
   "execution_count": 18,
   "metadata": {},
   "outputs": [],
   "source": [
    "# Best model\n",
    "y_pred = best_clf.predict(items.iloc[:, 2:])\n",
    "# Add ID and study columns\n",
    "y_pred = pd.concat([items.iloc[:, :2], y_pred], axis=1)\n",
    "# Save\n",
    "y_pred.to_csv(\"../../data/predictions_best.csv\", index=False)\n",
    "\n",
    "# 70 item model\n",
    "y_pred_70 = best_clf_70.predict(items.iloc[:, 2:])\n",
    "# Add ID and study columns\n",
    "y_pred_70 = pd.concat([items.iloc[:, :2], y_pred_70], axis=1)\n",
    "# Save\n",
    "y_pred_70.to_csv(\"../../data/predictions_70item.csv\", index=False)"
   ]
  },
  {
   "cell_type": "code",
   "execution_count": 23,
   "metadata": {},
   "outputs": [
    {
     "data": {
      "text/html": [
       "<div>\n",
       "<style scoped>\n",
       "    .dataframe tbody tr th:only-of-type {\n",
       "        vertical-align: middle;\n",
       "    }\n",
       "\n",
       "    .dataframe tbody tr th {\n",
       "        vertical-align: top;\n",
       "    }\n",
       "\n",
       "    .dataframe thead th {\n",
       "        text-align: right;\n",
       "    }\n",
       "</style>\n",
       "<table border=\"1\" class=\"dataframe\">\n",
       "  <thead>\n",
       "    <tr style=\"text-align: right;\">\n",
       "      <th></th>\n",
       "      <th>run</th>\n",
       "      <th>r2_AD</th>\n",
       "      <th>r2_Compul</th>\n",
       "      <th>r2_SW</th>\n",
       "      <th>min_r2</th>\n",
       "      <th>scores</th>\n",
       "      <th>n_items</th>\n",
       "      <th>alpha_AD</th>\n",
       "      <th>alpha_Compul</th>\n",
       "      <th>alpha_SW</th>\n",
       "    </tr>\n",
       "  </thead>\n",
       "  <tbody>\n",
       "    <tr>\n",
       "      <th>0</th>\n",
       "      <td>0</td>\n",
       "      <td>0.918298</td>\n",
       "      <td>0.941469</td>\n",
       "      <td>0.990727</td>\n",
       "      <td>0.918298</td>\n",
       "      <td>0.648990</td>\n",
       "      <td>61</td>\n",
       "      <td>0.648454</td>\n",
       "      <td>0.088522</td>\n",
       "      <td>0.050141</td>\n",
       "    </tr>\n",
       "    <tr>\n",
       "      <th>1</th>\n",
       "      <td>1</td>\n",
       "      <td>0.943385</td>\n",
       "      <td>0.797884</td>\n",
       "      <td>0.982315</td>\n",
       "      <td>0.797884</td>\n",
       "      <td>0.644444</td>\n",
       "      <td>40</td>\n",
       "      <td>0.281767</td>\n",
       "      <td>0.451665</td>\n",
       "      <td>0.067217</td>\n",
       "    </tr>\n",
       "    <tr>\n",
       "      <th>2</th>\n",
       "      <td>2</td>\n",
       "      <td>0.921996</td>\n",
       "      <td>0.754960</td>\n",
       "      <td>0.970634</td>\n",
       "      <td>0.754960</td>\n",
       "      <td>0.631553</td>\n",
       "      <td>34</td>\n",
       "      <td>0.422915</td>\n",
       "      <td>0.377139</td>\n",
       "      <td>0.120488</td>\n",
       "    </tr>\n",
       "    <tr>\n",
       "      <th>3</th>\n",
       "      <td>3</td>\n",
       "      <td>0.960795</td>\n",
       "      <td>0.943496</td>\n",
       "      <td>0.984583</td>\n",
       "      <td>0.943496</td>\n",
       "      <td>0.653189</td>\n",
       "      <td>64</td>\n",
       "      <td>0.263594</td>\n",
       "      <td>0.084933</td>\n",
       "      <td>0.173436</td>\n",
       "    </tr>\n",
       "    <tr>\n",
       "      <th>4</th>\n",
       "      <td>4</td>\n",
       "      <td>0.943833</td>\n",
       "      <td>0.838659</td>\n",
       "      <td>0.972880</td>\n",
       "      <td>0.838659</td>\n",
       "      <td>0.669315</td>\n",
       "      <td>42</td>\n",
       "      <td>0.267312</td>\n",
       "      <td>0.321228</td>\n",
       "      <td>0.095243</td>\n",
       "    </tr>\n",
       "    <tr>\n",
       "      <th>...</th>\n",
       "      <td>...</td>\n",
       "      <td>...</td>\n",
       "      <td>...</td>\n",
       "      <td>...</td>\n",
       "      <td>...</td>\n",
       "      <td>...</td>\n",
       "      <td>...</td>\n",
       "      <td>...</td>\n",
       "      <td>...</td>\n",
       "      <td>...</td>\n",
       "    </tr>\n",
       "    <tr>\n",
       "      <th>4995</th>\n",
       "      <td>4995</td>\n",
       "      <td>0.912294</td>\n",
       "      <td>0.914063</td>\n",
       "      <td>0.998437</td>\n",
       "      <td>0.912294</td>\n",
       "      <td>0.565798</td>\n",
       "      <td>79</td>\n",
       "      <td>0.758283</td>\n",
       "      <td>0.385957</td>\n",
       "      <td>0.009018</td>\n",
       "    </tr>\n",
       "    <tr>\n",
       "      <th>4996</th>\n",
       "      <td>4996</td>\n",
       "      <td>0.922947</td>\n",
       "      <td>0.691921</td>\n",
       "      <td>0.965987</td>\n",
       "      <td>0.691921</td>\n",
       "      <td>0.588798</td>\n",
       "      <td>31</td>\n",
       "      <td>0.353891</td>\n",
       "      <td>0.503692</td>\n",
       "      <td>0.158652</td>\n",
       "    </tr>\n",
       "    <tr>\n",
       "      <th>4997</th>\n",
       "      <td>4997</td>\n",
       "      <td>0.939040</td>\n",
       "      <td>0.984302</td>\n",
       "      <td>0.981386</td>\n",
       "      <td>0.939040</td>\n",
       "      <td>0.528210</td>\n",
       "      <td>91</td>\n",
       "      <td>0.601512</td>\n",
       "      <td>0.030305</td>\n",
       "      <td>0.280607</td>\n",
       "    </tr>\n",
       "    <tr>\n",
       "      <th>4998</th>\n",
       "      <td>4998</td>\n",
       "      <td>0.883406</td>\n",
       "      <td>0.664703</td>\n",
       "      <td>0.949702</td>\n",
       "      <td>0.664703</td>\n",
       "      <td>0.613572</td>\n",
       "      <td>16</td>\n",
       "      <td>0.574111</td>\n",
       "      <td>0.502975</td>\n",
       "      <td>0.342253</td>\n",
       "    </tr>\n",
       "    <tr>\n",
       "      <th>4999</th>\n",
       "      <td>4999</td>\n",
       "      <td>0.999906</td>\n",
       "      <td>0.993124</td>\n",
       "      <td>0.997466</td>\n",
       "      <td>0.993124</td>\n",
       "      <td>0.124140</td>\n",
       "      <td>182</td>\n",
       "      <td>0.001180</td>\n",
       "      <td>0.553760</td>\n",
       "      <td>0.288732</td>\n",
       "    </tr>\n",
       "  </tbody>\n",
       "</table>\n",
       "<p>5000 rows × 10 columns</p>\n",
       "</div>"
      ],
      "text/plain": [
       "       run     r2_AD  r2_Compul     r2_SW    min_r2    scores  n_items  \\\n",
       "0        0  0.918298   0.941469  0.990727  0.918298  0.648990       61   \n",
       "1        1  0.943385   0.797884  0.982315  0.797884  0.644444       40   \n",
       "2        2  0.921996   0.754960  0.970634  0.754960  0.631553       34   \n",
       "3        3  0.960795   0.943496  0.984583  0.943496  0.653189       64   \n",
       "4        4  0.943833   0.838659  0.972880  0.838659  0.669315       42   \n",
       "...    ...       ...        ...       ...       ...       ...      ...   \n",
       "4995  4995  0.912294   0.914063  0.998437  0.912294  0.565798       79   \n",
       "4996  4996  0.922947   0.691921  0.965987  0.691921  0.588798       31   \n",
       "4997  4997  0.939040   0.984302  0.981386  0.939040  0.528210       91   \n",
       "4998  4998  0.883406   0.664703  0.949702  0.664703  0.613572       16   \n",
       "4999  4999  0.999906   0.993124  0.997466  0.993124  0.124140      182   \n",
       "\n",
       "      alpha_AD  alpha_Compul  alpha_SW  \n",
       "0     0.648454      0.088522  0.050141  \n",
       "1     0.281767      0.451665  0.067217  \n",
       "2     0.422915      0.377139  0.120488  \n",
       "3     0.263594      0.084933  0.173436  \n",
       "4     0.267312      0.321228  0.095243  \n",
       "...        ...           ...       ...  \n",
       "4995  0.758283      0.385957  0.009018  \n",
       "4996  0.353891      0.503692  0.158652  \n",
       "4997  0.601512      0.030305  0.280607  \n",
       "4998  0.574111      0.502975  0.342253  \n",
       "4999  0.001180      0.553760  0.288732  \n",
       "\n",
       "[5000 rows x 10 columns]"
      ]
     },
     "execution_count": 23,
     "metadata": {},
     "output_type": "execute_result"
    }
   ],
   "source": [
    "optimiser.results_"
   ]
  },
  {
   "cell_type": "code",
   "execution_count": 22,
   "metadata": {},
   "outputs": [
    {
     "data": {
      "text/plain": [
       "['__class__',\n",
       " '__delattr__',\n",
       " '__dict__',\n",
       " '__dir__',\n",
       " '__doc__',\n",
       " '__eq__',\n",
       " '__format__',\n",
       " '__ge__',\n",
       " '__getattribute__',\n",
       " '__getstate__',\n",
       " '__gt__',\n",
       " '__hash__',\n",
       " '__init__',\n",
       " '__init_subclass__',\n",
       " '__le__',\n",
       " '__lt__',\n",
       " '__module__',\n",
       " '__ne__',\n",
       " '__new__',\n",
       " '__reduce__',\n",
       " '__reduce_ex__',\n",
       " '__repr__',\n",
       " '__setattr__',\n",
       " '__setstate__',\n",
       " '__sizeof__',\n",
       " '__sklearn_clone__',\n",
       " '__str__',\n",
       " '__subclasshook__',\n",
       " '__weakref__',\n",
       " '_build_request_for_signature',\n",
       " '_check_feature_names',\n",
       " '_check_n_features',\n",
       " '_doc_link_module',\n",
       " '_doc_link_template',\n",
       " '_doc_link_url_param_generator',\n",
       " '_get_default_requests',\n",
       " '_get_doc_link',\n",
       " '_get_metadata_request',\n",
       " '_get_param_names',\n",
       " '_get_tags',\n",
       " '_more_tags',\n",
       " '_repr_html_',\n",
       " '_repr_html_inner',\n",
       " '_repr_mimebundle_',\n",
       " '_validate_data',\n",
       " '_validate_params',\n",
       " 'alphas',\n",
       " 'clf',\n",
       " 'factor_names',\n",
       " 'fit',\n",
       " 'fit_intercept',\n",
       " 'get_metadata_routing',\n",
       " 'get_params',\n",
       " 'get_weights',\n",
       " 'included_item_names',\n",
       " 'included_items',\n",
       " 'item_names',\n",
       " 'n_factors',\n",
       " 'n_included_items',\n",
       " 'predict',\n",
       " 'predict_reduced',\n",
       " 'save',\n",
       " 'set_params']"
      ]
     },
     "execution_count": 22,
     "metadata": {},
     "output_type": "execute_result"
    }
   ],
   "source": [
    "dir(best_clf_70)"
   ]
  }
 ],
 "metadata": {
  "kernelspec": {
   "display_name": "facsimile",
   "language": "python",
   "name": "python3"
  },
  "language_info": {
   "codemirror_mode": {
    "name": "ipython",
    "version": 3
   },
   "file_extension": ".py",
   "mimetype": "text/x-python",
   "name": "python",
   "nbconvert_exporter": "python",
   "pygments_lexer": "ipython3",
   "version": "3.10.14"
  },
  "orig_nbformat": 4
 },
 "nbformat": 4,
 "nbformat_minor": 2
}
